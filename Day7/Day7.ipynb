{
 "cells": [
  {
   "cell_type": "markdown",
   "metadata": {},
   "source": [
    "Write a program to copy the contents of one file to another using a for loop. (Don’t use built-in copy\n",
    "function)"
   ]
  },
  {
   "cell_type": "code",
   "execution_count": 2,
   "metadata": {},
   "outputs": [],
   "source": [
    "new_file = open(\"copy.txt\", \"w\")\n",
    "with open(\"hello.txt\", \"r\") as f:\n",
    "    new_file.write(f.read())\n",
    "\n",
    "new_file.close()"
   ]
  },
  {
   "cell_type": "markdown",
   "metadata": {},
   "source": [
    "Write a Python program to find maximum and minimum values in the dictionary. Do not use built-in min\n",
    "and max functions."
   ]
  },
  {
   "cell_type": "code",
   "execution_count": 3,
   "metadata": {},
   "outputs": [
    {
     "name": "stdout",
     "output_type": "stream",
     "text": [
      "4\n"
     ]
    }
   ],
   "source": [
    "\n",
    "#maximum\n",
    "data= {1: 1, 2: 1, 3: 1, 4: 3, 5: 2}\n",
    "maxVal= None\n",
    "maxKey= -1\n",
    "for k in data:\n",
    "    if maxVal is None or maxVal< data[k]:\n",
    "        maxVal= data[k]\n",
    "        maxKey=k\n",
    "print(maxKey)\n",
    "\n",
    "data1= {1: 1, 2: 1, 3: 1, 4: 3, 5: 2}\n",
    "minVal= None\n",
    "minKey= -1\n",
    "for k in data:\n",
    "    if minVal is None or minVal> data[k]:\n",
    "        minVal= data1[k]\n",
    "        minKey=k\n",
    "print(minKey)"
   ]
  },
  {
   "cell_type": "code",
   "execution_count": 4,
   "metadata": {},
   "outputs": [
    {
     "name": "stdout",
     "output_type": "stream",
     "text": [
      "1\n"
     ]
    }
   ],
   "source": [
    "#minimum\n",
    "data1= {1: 1, 2: 1, 3: 1, 4: 3, 5: 2}\n",
    "minVal= None\n",
    "minKey= -1\n",
    "for k in data:\n",
    "    if minVal is None or minVal> data[k]:\n",
    "        minVal= data1[k]\n",
    "        minKey=k\n",
    "print(minKey)"
   ]
  },
  {
   "cell_type": "code",
   "execution_count": null,
   "metadata": {},
   "outputs": [],
   "source": []
  }
 ],
 "metadata": {
  "kernelspec": {
   "display_name": "Python 3",
   "language": "python",
   "name": "python3"
  },
  "language_info": {
   "codemirror_mode": {
    "name": "ipython",
    "version": 3
   },
   "file_extension": ".py",
   "mimetype": "text/x-python",
   "name": "python",
   "nbconvert_exporter": "python",
   "pygments_lexer": "ipython3",
   "version": "3.8.3"
  }
 },
 "nbformat": 4,
 "nbformat_minor": 4
}
