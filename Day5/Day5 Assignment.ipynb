{
 "cells": [
  {
   "cell_type": "markdown",
   "metadata": {},
   "source": [
    "# Assignment "
   ]
  },
  {
   "cell_type": "markdown",
   "metadata": {},
   "source": [
    "1.   Write a Python program to find the first 20 non-even prime natural numbers."
   ]
  },
  {
   "cell_type": "code",
   "execution_count": 1,
   "metadata": {},
   "outputs": [
    {
     "name": "stdout",
     "output_type": "stream",
     "text": [
      "3\n",
      "5\n",
      "7\n",
      "11\n",
      "13\n",
      "17\n",
      "19\n"
     ]
    }
   ],
   "source": [
    "for i in range(2,21):\n",
    "    for j in range(2,i):\n",
    "        if (i%j==0):\n",
    "            break\n",
    "    else:\n",
    "        if (i%2!=0):\n",
    "            print(i)"
   ]
  },
  {
   "cell_type": "markdown",
   "metadata": {},
   "source": [
    "2. Write a Python program to implement 15 functions of string."
   ]
  },
  {
   "cell_type": "code",
   "execution_count": 2,
   "metadata": {},
   "outputs": [
    {
     "name": "stdout",
     "output_type": "stream",
     "text": [
      "<class 'str'>\n",
      "ello\n",
      "namaskarHello World\n",
      "NAMASKAR\n",
      "hello world\n",
      "['to', 'the', 'LetsUpgrade']\n",
      "['the', 'LetsUpgrade']\n",
      "3\n"
     ]
    }
   ],
   "source": [
    "str2=\"Hello World\"\n",
    "print(str)\n",
    "\n",
    "#accessing\n",
    "str1 = 'Hello World'\n",
    "print(str1[1:5])\n",
    "\n",
    "# deleting string\n",
    "del str1\n",
    "\n",
    "#concatenation \n",
    "str1=\"namaskar\"\n",
    "str3=str1+str2\n",
    "print(str3)\n",
    "\n",
    "# uppercase\n",
    "str4=str1.upper()\n",
    "print(str4)\n",
    "#lower case\n",
    "str5=str2.lower()\n",
    "print(str5)\n",
    "\n",
    "#split\n",
    "txt = \"welcome to the LetsUpgrade\"\n",
    "\n",
    "x = txt.split()\n",
    "y=txt.split()[1:]\n",
    "z=txt.split()[2:]\n",
    "print(y)\n",
    "\n",
    "print(z)\n",
    "\n",
    "#count\n",
    "txt = \"I love apples, apples are good for my health,because an apple a day keeps a doctor away\"\n",
    "\n",
    "x = txt.count(\"apple\")\n",
    "\n",
    "print(x)"
   ]
  },
  {
   "cell_type": "markdown",
   "metadata": {},
   "source": [
    "3. Write a Python program to check if the given string is a Palindrome or Anagram or None of them. Display\n",
    "the message accordingly to the user."
   ]
  },
  {
   "cell_type": "code",
   "execution_count": 3,
   "metadata": {},
   "outputs": [
    {
     "name": "stdout",
     "output_type": "stream",
     "text": [
      "Enter a string:Hello World\n",
      "enter a stringihi\n",
      "none of them\n"
     ]
    }
   ],
   "source": [
    "string1=input((\"Enter a string:\"))\n",
    "string2=input(\"enter a string\")\n",
    "if(string1==string2[::-1]):\n",
    "      print(\"The string is a palindrome\")\n",
    "\n",
    "    \n",
    "elif(sorted(string1)==sorted(string2)):\n",
    "    print(\"it is anagram\")\n",
    "else:\n",
    "    print(\"none of them\")"
   ]
  },
  {
   "cell_type": "code",
   "execution_count": 4,
   "metadata": {},
   "outputs": [
    {
     "name": "stdout",
     "output_type": "stream",
     "text": [
      "Enter a string:malyalam\n",
      "enter a stringmalyalam\n",
      "it is anagram\n"
     ]
    }
   ],
   "source": [
    "string1=input((\"Enter a string:\"))\n",
    "string2=input(\"enter a string\")\n",
    "if(string1==string2[::-1]):\n",
    "      print(\"The string is a palindrome\")\n",
    "\n",
    "    \n",
    "elif(sorted(string1)==sorted(string2)):\n",
    "    print(\"it is anagram\")\n",
    "else:\n",
    "    print(\"none of them\")"
   ]
  },
  {
   "cell_type": "code",
   "execution_count": 5,
   "metadata": {},
   "outputs": [
    {
     "name": "stdout",
     "output_type": "stream",
     "text": [
      "Enter a string:hell\n",
      "enter a stringlleh\n",
      "The string is a palindrome\n"
     ]
    }
   ],
   "source": [
    "string1=input((\"Enter a string:\"))\n",
    "string2=input(\"enter a string\")\n",
    "if(string1==string2[::-1]):\n",
    "      print(\"The string is a palindrome\")\n",
    "\n",
    "    \n",
    "elif(sorted(string1)==sorted(string2)):\n",
    "    print(\"it is anagram\")\n",
    "else:\n",
    "    print(\"none of them\")"
   ]
  },
  {
   "cell_type": "markdown",
   "metadata": {},
   "source": [
    "4. Write a Python's user-defined function that removes all the additional characters from the string and\n",
    "convert it finally to lower case using built-in lower(). eg: If the string is \"Dr. Darshan Ingle @AIML Trainer\",\n",
    "then the output be \"drdarshaningleaimltrainer\"."
   ]
  },
  {
   "cell_type": "code",
   "execution_count": 6,
   "metadata": {},
   "outputs": [
    {
     "name": "stdout",
     "output_type": "stream",
     "text": [
      "drdarshaningleaimltrainer\n"
     ]
    }
   ],
   "source": [
    "stre=['', '.']\n",
    "str1= \"Dr. Darshan Ingle @AIML Trainer\"\n",
    "\n",
    "for i in stre:\n",
    "    \n",
    "    strt=str1.replace(i,'')\n",
    "vos=['@']\n",
    "for b in vos:\n",
    "    stg=strt.replace(b,'')\n",
    "    \n",
    "vop=[\" \",\" \"]\n",
    "for f in vop:\n",
    "    klk=stg.replace(f,'')\n",
    "print(klk.lower())"
   ]
  },
  {
   "cell_type": "code",
   "execution_count": null,
   "metadata": {},
   "outputs": [],
   "source": []
  }
 ],
 "metadata": {
  "kernelspec": {
   "display_name": "Python 3",
   "language": "python",
   "name": "python3"
  },
  "language_info": {
   "codemirror_mode": {
    "name": "ipython",
    "version": 3
   },
   "file_extension": ".py",
   "mimetype": "text/x-python",
   "name": "python",
   "nbconvert_exporter": "python",
   "pygments_lexer": "ipython3",
   "version": "3.8.3"
  }
 },
 "nbformat": 4,
 "nbformat_minor": 4
}
