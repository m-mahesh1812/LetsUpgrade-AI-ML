{
 "cells": [
  {
   "cell_type": "markdown",
   "metadata": {},
   "source": [
    "Assignment Day 4"
   ]
  },
  {
   "cell_type": "markdown",
   "metadata": {},
   "source": [
    "1. Research on whether addition, subtraction, multiplication, division, floor division, and modulo operations\n",
    "be performed on complex numbers. Based on your study, implement a Python program to demonstrate\n",
    "these operations."
   ]
  },
  {
   "cell_type": "code",
   "execution_count": 4,
   "metadata": {},
   "outputs": [
    {
     "name": "stdout",
     "output_type": "stream",
     "text": [
      "Addition is (7+7j)\n",
      "Subtraction is (3+3j)\n",
      "Multiplication is 20j\n",
      "division is (2.5+0j)\n"
     ]
    }
   ],
   "source": [
    "a=5+5j\n",
    "b=2+2j\n",
    "print(\"Addition is\",a+b)\n",
    "print(\"Subtraction is\",a-b)\n",
    "print(\"Multiplication is\",a*b)\n",
    "print(\"division is\",a/b)\n",
    "# print(\"floor division is\",a//b)  floor division is not possible in python 3.8\n",
    "#print(\"modulo operation is\",a%b)   modulo operator cannot be implemented in python 3.8"
   ]
  },
  {
   "cell_type": "markdown",
   "metadata": {},
   "source": [
    "2.  Research on range() functions and its parameters. Create a markdown cell and write in your own words\n",
    "(no copy-paste from google please) what you understand about it. Implement a small program of your\n",
    "choice on the same."
   ]
  },
  {
   "cell_type": "markdown",
   "metadata": {},
   "source": [
    "   answer :-   Range function takes input as 1 parameter or 2 parameters or 3 parameters\n",
    "1. start\n",
    "2. stop\n",
    "3. step\n",
    "but when we use it ,the end element is always excluded and only from (start,stop-1,step) is considered,\n",
    "range(stop),\n",
    "range(start,stop),\n",
    "range(start,stop-1,step)\n",
    "\n",
    "\n"
   ]
  },
  {
   "cell_type": "code",
   "execution_count": 12,
   "metadata": {},
   "outputs": [
    {
     "name": "stdout",
     "output_type": "stream",
     "text": [
      "3 arguments 0\n",
      "3 arguments 5\n",
      "3 arguments 10\n",
      "3 arguments 15\n",
      "3 arguments 20\n",
      "\n",
      "\n",
      "2 arguments 1\n",
      "2 arguments 2\n",
      "2 arguments 3\n",
      "2 arguments 4\n",
      "\n",
      "\n",
      "1 argument 0\n",
      "1 argument 1\n",
      "1 argument 2\n",
      "1 argument 3\n",
      "1 argument 4\n"
     ]
    }
   ],
   "source": [
    "for i in range(0,25,5): #divisible by 5\n",
    "    print(\"3 arguments\",i)\n",
    "print(\"\\n\")\n",
    "for j in range(1,5):\n",
    "    print(\"2 arguments\",j)\n",
    "print(\"\\n\")\n",
    "for k in range(5):\n",
    "    print(\"1 argument\",k)\n"
   ]
  },
  {
   "cell_type": "code",
   "execution_count": 11,
   "metadata": {},
   "outputs": [
    {
     "name": "stdout",
     "output_type": "stream",
     "text": [
      "0\n",
      "2\n",
      "4\n",
      "6\n",
      "8\n"
     ]
    }
   ],
   "source": [
    "for i in range(10): #program to print even numbers\n",
    "    if i%2==0:\n",
    "        print(i)"
   ]
  },
  {
   "cell_type": "markdown",
   "metadata": {},
   "source": [
    "3. Consider two numbers. Perform their subtraction and if the result of subtraction is greater than 25, print\n",
    "their multiplication result else print their division result."
   ]
  },
  {
   "cell_type": "code",
   "execution_count": 18,
   "metadata": {},
   "outputs": [
    {
     "name": "stdout",
     "output_type": "stream",
     "text": [
      "enter the value of x 40\n",
      "enter the value of y 2\n",
      "multiplication result is 80\n"
     ]
    }
   ],
   "source": [
    "x=int(input(\"enter the value of x \"))\n",
    "y=int (input(\"enter the value of y \"))\n",
    "s=x-y\n",
    "if s>25:\n",
    "    print(\"multiplication result is\",(x*y))\n",
    "else:\n",
    "    print(\"division result\",(x/y))"
   ]
  },
  {
   "cell_type": "code",
   "execution_count": 15,
   "metadata": {},
   "outputs": [
    {
     "name": "stdout",
     "output_type": "stream",
     "text": [
      "enter the value of x 10\n",
      "enter the value of y 2\n",
      "division result 5.0\n"
     ]
    }
   ],
   "source": [
    "x=int(input(\"enter the value of x \"))\n",
    "y=int (input(\"enter the value of y \"))\n",
    "s=x-y\n",
    "if s>25:\n",
    "    print(\"multiplication result is\",(x*y))\n",
    "else:\n",
    "    print(\"division result\",(x/y))"
   ]
  },
  {
   "cell_type": "markdown",
   "metadata": {},
   "source": [
    "4. Consider a list of 10 elements of integer values. If the number in the list is divisible by 2, print the result as\n",
    "\"square of that number minus 2\"."
   ]
  },
  {
   "cell_type": "code",
   "execution_count": 22,
   "metadata": {},
   "outputs": [
    {
     "name": "stdout",
     "output_type": "stream",
     "text": [
      "result is 2\n",
      "result is 14\n",
      "result is 34\n",
      "result is 62\n",
      "result is 98\n"
     ]
    }
   ],
   "source": [
    "l=[1,2,3,4,5,6,7,8,9,10]\n",
    "for i in l:\n",
    "    if i%2==0:\n",
    "        print(\"result is\",(i**2)-2)"
   ]
  },
  {
   "cell_type": "markdown",
   "metadata": {},
   "source": [
    "5. Consider a list of 10 elements. Print all the elements in the list which are greater than 7 when that number\n",
    "is divided 2."
   ]
  },
  {
   "cell_type": "code",
   "execution_count": 7,
   "metadata": {},
   "outputs": [
    {
     "name": "stdout",
     "output_type": "stream",
     "text": [
      "21\n",
      "67\n",
      "1000\n",
      "999\n"
     ]
    }
   ],
   "source": [
    "l=[1,21,3,4,5,6,67,1000,,0,999]\n",
    "for i in l:\n",
    "    if (i/2)>7:\n",
    "        print(i)\n",
    "        "
   ]
  },
  {
   "cell_type": "code",
   "execution_count": 8,
   "metadata": {},
   "outputs": [
    {
     "name": "stdout",
     "output_type": "stream",
     "text": [
      "8\n",
      "9\n"
     ]
    }
   ],
   "source": [
    "l=[1,2,3,4,5,6,7,8,9]\n",
    "for i in l:\n",
    "    if (i>7)/2:\n",
    "        print(i)\n",
    "        "
   ]
  },
  {
   "cell_type": "code",
   "execution_count": null,
   "metadata": {},
   "outputs": [],
   "source": []
  }
 ],
 "metadata": {
  "kernelspec": {
   "display_name": "Python 3",
   "language": "python",
   "name": "python3"
  },
  "language_info": {
   "codemirror_mode": {
    "name": "ipython",
    "version": 3
   },
   "file_extension": ".py",
   "mimetype": "text/x-python",
   "name": "python",
   "nbconvert_exporter": "python",
   "pygments_lexer": "ipython3",
   "version": "3.8.3"
  }
 },
 "nbformat": 4,
 "nbformat_minor": 4
}
